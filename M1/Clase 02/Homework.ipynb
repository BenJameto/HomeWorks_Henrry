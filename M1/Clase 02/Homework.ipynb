{
 "cells": [
  {
   "cell_type": "markdown",
   "metadata": {},
   "source": [
    "# Práctica Clase 2"
   ]
  },
  {
   "cell_type": "markdown",
   "metadata": {},
   "source": [
    "1) Abrir el archivo \"Emisiones_CO2.csv\" y cargar sus datos en un diccionario."
   ]
  },
  {
   "cell_type": "code",
   "execution_count": 7,
   "metadata": {},
   "outputs": [],
   "source": [
    "import os\n",
    "archivo = open('Emisiones_CO2.csv', 'r', encoding= 'ISO-8859-1')"
   ]
  },
  {
   "cell_type": "code",
   "execution_count": 8,
   "metadata": {},
   "outputs": [
    {
     "data": {
      "text/plain": [
       "_io.TextIOWrapper"
      ]
     },
     "execution_count": 8,
     "metadata": {},
     "output_type": "execute_result"
    }
   ],
   "source": [
    "type(archivo)"
   ]
  },
  {
   "cell_type": "code",
   "execution_count": 9,
   "metadata": {},
   "outputs": [
    {
     "data": {
      "text/plain": [
       "'Código de país|Nombre del país|Región|Año|CO2 (kt)|CO2 per cápita (toneladas métricas)\\n'"
      ]
     },
     "execution_count": 9,
     "metadata": {},
     "output_type": "execute_result"
    }
   ],
   "source": [
    "next(archivo)\n"
   ]
  },
  {
   "cell_type": "code",
   "execution_count": 10,
   "metadata": {},
   "outputs": [],
   "source": [
    "dicc_emisiones = {  'cod_pais' : [],\n",
    "                    'nom_pais' : [],\n",
    "                    'region' : [],\n",
    "                    'anio' : [],\n",
    "                    'co2' : [],\n",
    "                    'co2_percapita' : []}"
   ]
  },
  {
   "cell_type": "code",
   "execution_count": 11,
   "metadata": {},
   "outputs": [],
   "source": [
    "for linea in archivo:\n",
    "    #print(repr(linea))\n",
    "    #print(repr(linea.strip()))\n",
    "    linea = linea.strip()\n",
    "    lista= linea.split('|')\n",
    "    dicc_emisiones['cod_pais'].append(lista[0])\n",
    "    dicc_emisiones['nom_pais'].append(lista[1])\n",
    "    dicc_emisiones[\"region\"].append(lista[2])\n",
    "    dicc_emisiones['anio'].append(lista[3])\n",
    "    dicc_emisiones['co2'].append(lista[4])\n",
    "    dicc_emisiones[\"co2_percapita\"].append(lista[5])"
   ]
  },
  {
   "cell_type": "code",
   "execution_count": 12,
   "metadata": {},
   "outputs": [],
   "source": [
    "archivo.close()"
   ]
  },
  {
   "cell_type": "code",
   "execution_count": 13,
   "metadata": {},
   "outputs": [
    {
     "data": {
      "text/plain": [
       "11127"
      ]
     },
     "execution_count": 13,
     "metadata": {},
     "output_type": "execute_result"
    }
   ],
   "source": [
    "len(dicc_emisiones['cod_pais'])"
   ]
  },
  {
   "cell_type": "code",
   "execution_count": 14,
   "metadata": {},
   "outputs": [
    {
     "name": "stdout",
     "output_type": "stream",
     "text": [
      "['este', 'es', 'un', 'ejemplo', 'de', 'la', 'funcion', 'split', 'para', 'cadenas']\n",
      "['este es un ejemplo', ' de la funcion split', ' para cadenas']\n",
      "10\n",
      "3\n"
     ]
    }
   ],
   "source": [
    "s= \"este es un ejemplo de la funcion split para cadenas\"\n",
    "print(s.split())\n",
    "a=\"este es un ejemplo, de la funcion split, para cadenas\"\n",
    "print(a.split(\",\"))\n",
    "print(len(a.split()))\n",
    "print(len(a.split(\",\")))"
   ]
  },
  {
   "cell_type": "code",
   "execution_count": 15,
   "metadata": {},
   "outputs": [
    {
     "name": "stdout",
     "output_type": "stream",
     "text": [
      "este es un ejemplo de la funcion strip para cadenas\n",
      "          este es un ejemplo de la funcion strip para cadenas\n",
      "este es un ejemplo de la funcion strip para cadenas       \n",
      "['este', 'es', 'un', 'ejemplo', 'de', 'la', 'funcion', 'strip', 'para', 'cadenas']\n",
      "este es un ejemplo de la funcion strip para cadenas\n"
     ]
    }
   ],
   "source": [
    "b= \"          este es un ejemplo de la funcion strip para cadenas       \"\n",
    "print(b.strip())\n",
    "c=\"          este es un ejemplo de la funcion strip para cadenas       \"\n",
    "print(c.rstrip())\n",
    "d=\"          este es un ejemplo de la funcion strip para cadenas       \"\n",
    "print(d.lstrip())\n",
    "e=\"          este es un ejemplo       de la funcion strip para cadenas       \"\n",
    "eprima=e.split()\n",
    "print(eprima)\n",
    "efinal=\" \".join(eprima)\n",
    "print(efinal)\n",
    "\n"
   ]
  },
  {
   "attachments": {},
   "cell_type": "markdown",
   "metadata": {},
   "source": [
    "2) a) ¿Cuántas variables hay? <br>"
   ]
  },
  {
   "cell_type": "code",
   "execution_count": 16,
   "metadata": {},
   "outputs": [
    {
     "name": "stdout",
     "output_type": "stream",
     "text": [
      "hay un total de 6 variables\n"
     ]
    }
   ],
   "source": [
    "print(\"hay un total de \" + str(len(dicc_emisiones.keys()))+ \" variables\")"
   ]
  },
  {
   "cell_type": "code",
   "execution_count": 17,
   "metadata": {},
   "outputs": [
    {
     "name": "stdout",
     "output_type": "stream",
     "text": [
      "hay un total de 6 variables\n"
     ]
    }
   ],
   "source": [
    "print(\"hay un total de {} variables\".format(len(dicc_emisiones.keys())))"
   ]
  },
  {
   "cell_type": "code",
   "execution_count": 18,
   "metadata": {},
   "outputs": [
    {
     "name": "stdout",
     "output_type": "stream",
     "text": [
      "hay un total de 6 variables\n"
     ]
    }
   ],
   "source": [
    "cant=len(dicc_emisiones.keys())\n",
    "print(f\"hay un total de {cant} variables\")"
   ]
  },
  {
   "attachments": {},
   "cell_type": "markdown",
   "metadata": {},
   "source": [
    "\n",
    "b) ¿Qué tipos de datos usar para cada una? <br>\n"
   ]
  },
  {
   "cell_type": "code",
   "execution_count": 19,
   "metadata": {},
   "outputs": [
    {
     "name": "stdout",
     "output_type": "stream",
     "text": [
      "cod_pais :  ABW\n",
      "nom_pais :  Aruba\n",
      "region :  América Latina y Caribe\n",
      "anio :  1990\n",
      "co2 :  1.840,83\n",
      "co2_percapita :  29,620164768\n"
     ]
    }
   ],
   "source": [
    "claves = dicc_emisiones.keys()\n",
    "for clave in claves:\n",
    "    print(clave, \": \", dicc_emisiones[clave][30])"
   ]
  },
  {
   "attachments": {},
   "cell_type": "markdown",
   "metadata": {},
   "source": [
    "cod_pais :  ABW-->cualitativo categorico\n",
    "nom_pais :  Aruba-->cualitativo categorico\n",
    "region :  América Latina y Caribe-->cualitativo categorico\n",
    "anio :  1990 -->cualitativo ordinal \n",
    "co2 :  1.840,83 -->cuantitativo continuo\n",
    "co2_percapita :  29,620164768 -->cuantitativo continuo"
   ]
  },
  {
   "attachments": {},
   "cell_type": "markdown",
   "metadata": {},
   "source": [
    "c) ¿Qué tipo de variables son? <br>\n"
   ]
  },
  {
   "attachments": {},
   "cell_type": "markdown",
   "metadata": {},
   "source": [
    "cod_pais :  ABW-->cualitativo categorico -->\"string\"\n",
    "nom_pais :  Aruba-->cualitativo categorico-->\"string\"\n",
    "region :  América Latina y Caribe-->cualitativo categorico-->\"string\"\n",
    "anio :  1990 -->cualitativo ordinal -->integer\n",
    "co2 :  1.840,83 -->cuantitativo continuo -->float\n",
    "co2_percapita :  29,620164768 -->cuantitativo continuo-->float"
   ]
  },
  {
   "attachments": {},
   "cell_type": "markdown",
   "metadata": {},
   "source": [
    "NORMALIZACION"
   ]
  },
  {
   "cell_type": "code",
   "execution_count": 20,
   "metadata": {},
   "outputs": [],
   "source": [
    "def normalizacion (lista):\n",
    "    for indice, elemento in enumerate (lista):\n",
    "        if elemento:\n",
    "            elemento=elemento.replace('.', '')\n",
    "            elemento = elemento.replace(',', '.')\n",
    "            elemento = float(elemento)\n",
    "        else: \n",
    "            elemento = None\n",
    "        lista[indice]=elemento\n",
    "    return lista"
   ]
  },
  {
   "cell_type": "code",
   "execution_count": 22,
   "metadata": {},
   "outputs": [],
   "source": [
    "dicc_emisiones['co2_percapita'] = normalizacion(dicc_emisiones['co2_percapita'])"
   ]
  },
  {
   "cell_type": "code",
   "execution_count": 23,
   "metadata": {},
   "outputs": [
    {
     "name": "stdout",
     "output_type": "stream",
     "text": [
      "1840.83\n"
     ]
    },
    {
     "data": {
      "text/plain": [
       "29.620164768"
      ]
     },
     "execution_count": 23,
     "metadata": {},
     "output_type": "execute_result"
    }
   ],
   "source": [
    "print(dicc_emisiones['co2'][30])\n",
    "dicc_emisiones['co2_percapita'][30]"
   ]
  },
  {
   "cell_type": "code",
   "execution_count": 24,
   "metadata": {},
   "outputs": [],
   "source": [
    "for indice, valor in enumerate(dicc_emisiones['anio']):\n",
    "    dicc_emisiones['anio'][indice]=int(valor)"
   ]
  },
  {
   "cell_type": "code",
   "execution_count": 41,
   "metadata": {},
   "outputs": [
    {
     "data": {
      "text/plain": [
       "1990"
      ]
     },
     "execution_count": 41,
     "metadata": {},
     "output_type": "execute_result"
    }
   ],
   "source": [
    "dicc_emisiones['anio'][30]"
   ]
  },
  {
   "cell_type": "code",
   "execution_count": 42,
   "metadata": {},
   "outputs": [
    {
     "data": {
      "text/plain": [
       "int"
      ]
     },
     "execution_count": 42,
     "metadata": {},
     "output_type": "execute_result"
    }
   ],
   "source": [
    "type(dicc_emisiones['anio'][30])"
   ]
  },
  {
   "attachments": {},
   "cell_type": "markdown",
   "metadata": {},
   "source": [
    "d) ¿Hay valores faltantes? <br>\n"
   ]
  },
  {
   "cell_type": "code",
   "execution_count": 26,
   "metadata": {},
   "outputs": [
    {
     "data": {
      "text/plain": [
       "{'co2', 'co2_percapita'}"
      ]
     },
     "execution_count": 26,
     "metadata": {},
     "output_type": "execute_result"
    }
   ],
   "source": [
    "faltantes = []\n",
    "for key in dicc_emisiones:\n",
    "    for val in dicc_emisiones[key]:\n",
    "        if not val:\n",
    "            #print(\"falta un elemento en {}\".format(key))\n",
    "            faltantes.append(key)\n",
    "set(faltantes)"
   ]
  },
  {
   "attachments": {},
   "cell_type": "markdown",
   "metadata": {},
   "source": [
    "e) ¿Cuál es el total de emisiones de CO2 para 'América Latina y Caribe' en el año 2010?"
   ]
  },
  {
   "cell_type": "code",
   "execution_count": 45,
   "metadata": {},
   "outputs": [
    {
     "data": {
      "text/plain": [
       "range(0, 11127)"
      ]
     },
     "execution_count": 45,
     "metadata": {},
     "output_type": "execute_result"
    }
   ],
   "source": [
    "range(len(dicc_emisiones['region']))"
   ]
  },
  {
   "cell_type": "code",
   "execution_count": 50,
   "metadata": {},
   "outputs": [],
   "source": [
    "anio = 2010\n",
    "region = 'América Latina y Caribe'\n",
    "emisiones = 0\n",
    "\n",
    "for i in range(len(dicc_emisiones['region'])):\n",
    "    \n",
    "    if dicc_emisiones['region'][i] == region and dicc_emisiones['anio'][i]== anio:\n",
    "\n",
    "        if dicc_emisiones ['co2'][i]:\n",
    "            emisiones += dicc_emisiones['co2'][i]\n",
    "           \n"
   ]
  },
  {
   "cell_type": "code",
   "execution_count": 51,
   "metadata": {},
   "outputs": [
    {
     "data": {
      "text/plain": [
       "1691634.8009999995"
      ]
     },
     "execution_count": 51,
     "metadata": {},
     "output_type": "execute_result"
    }
   ],
   "source": [
    "emisiones"
   ]
  },
  {
   "cell_type": "code",
   "execution_count": null,
   "metadata": {},
   "outputs": [],
   "source": []
  }
 ],
 "metadata": {
  "kernelspec": {
   "display_name": "Python 3",
   "language": "python",
   "name": "python3"
  },
  "language_info": {
   "codemirror_mode": {
    "name": "ipython",
    "version": 3
   },
   "file_extension": ".py",
   "mimetype": "text/x-python",
   "name": "python",
   "nbconvert_exporter": "python",
   "pygments_lexer": "ipython3",
   "version": "3.10.6"
  },
  "orig_nbformat": 4,
  "vscode": {
   "interpreter": {
    "hash": "916dbcbb3f70747c44a77c7bcd40155683ae19c65e1c03b4aa3499c5328201f1"
   }
  }
 },
 "nbformat": 4,
 "nbformat_minor": 2
}
